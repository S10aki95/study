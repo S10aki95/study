{
  "nbformat": 4,
  "nbformat_minor": 0,
  "metadata": {
    "colab": {
      "name": "fine_tuning_ver4.ipynb",
      "provenance": [],
      "collapsed_sections": [],
      "include_colab_link": true
    },
    "interpreter": {
      "hash": "0c94df9a04beabacc8fb55156216a9ca69dd7034d3e5b99b27b0417a6e766b4e"
    },
    "kernelspec": {
      "display_name": "Python 3.8.10 64-bit ('python_38_ver_test': conda)",
      "name": "python3"
    },
    "language_info": {
      "codemirror_mode": {
        "name": "ipython",
        "version": 3
      },
      "file_extension": ".py",
      "mimetype": "text/x-python",
      "name": "python",
      "nbconvert_exporter": "python",
      "pygments_lexer": "ipython3",
      "version": "3.8.10"
    },
    "accelerator": "GPU"
  },
  "cells": [
    {
      "cell_type": "markdown",
      "metadata": {
        "id": "view-in-github",
        "colab_type": "text"
      },
      "source": [
        "<a href=\"https://colab.research.google.com/github/S10aki95/study/blob/main/fine_tuning_ver4.ipynb\" target=\"_parent\"><img src=\"https://colab.research.google.com/assets/colab-badge.svg\" alt=\"Open In Colab\"/></a>"
      ]
    },
    {
      "cell_type": "code",
      "metadata": {
        "colab": {
          "base_uri": "https://localhost:8080/"
        },
        "id": "14UZpGuT7zON",
        "outputId": "b95e886d-d2aa-4356-b544-06127ecdf1e7"
      },
      "source": [
        "!pip install transformers\n",
        "!pip install fugashi\n",
        "!pip install ipadic"
      ],
      "execution_count": 1,
      "outputs": [
        {
          "output_type": "stream",
          "text": [
            "Requirement already satisfied: transformers in /usr/local/lib/python3.7/dist-packages (4.9.1)\n",
            "Requirement already satisfied: numpy>=1.17 in /usr/local/lib/python3.7/dist-packages (from transformers) (1.19.5)\n",
            "Requirement already satisfied: tokenizers<0.11,>=0.10.1 in /usr/local/lib/python3.7/dist-packages (from transformers) (0.10.3)\n",
            "Requirement already satisfied: pyyaml>=5.1 in /usr/local/lib/python3.7/dist-packages (from transformers) (5.4.1)\n",
            "Requirement already satisfied: tqdm>=4.27 in /usr/local/lib/python3.7/dist-packages (from transformers) (4.41.1)\n",
            "Requirement already satisfied: requests in /usr/local/lib/python3.7/dist-packages (from transformers) (2.23.0)\n",
            "Requirement already satisfied: importlib-metadata in /usr/local/lib/python3.7/dist-packages (from transformers) (4.6.1)\n",
            "Requirement already satisfied: packaging in /usr/local/lib/python3.7/dist-packages (from transformers) (21.0)\n",
            "Requirement already satisfied: sacremoses in /usr/local/lib/python3.7/dist-packages (from transformers) (0.0.45)\n",
            "Requirement already satisfied: huggingface-hub==0.0.12 in /usr/local/lib/python3.7/dist-packages (from transformers) (0.0.12)\n",
            "Requirement already satisfied: regex!=2019.12.17 in /usr/local/lib/python3.7/dist-packages (from transformers) (2019.12.20)\n",
            "Requirement already satisfied: filelock in /usr/local/lib/python3.7/dist-packages (from transformers) (3.0.12)\n",
            "Requirement already satisfied: typing-extensions in /usr/local/lib/python3.7/dist-packages (from huggingface-hub==0.0.12->transformers) (3.7.4.3)\n",
            "Requirement already satisfied: pyparsing>=2.0.2 in /usr/local/lib/python3.7/dist-packages (from packaging->transformers) (2.4.7)\n",
            "Requirement already satisfied: zipp>=0.5 in /usr/local/lib/python3.7/dist-packages (from importlib-metadata->transformers) (3.5.0)\n",
            "Requirement already satisfied: chardet<4,>=3.0.2 in /usr/local/lib/python3.7/dist-packages (from requests->transformers) (3.0.4)\n",
            "Requirement already satisfied: urllib3!=1.25.0,!=1.25.1,<1.26,>=1.21.1 in /usr/local/lib/python3.7/dist-packages (from requests->transformers) (1.24.3)\n",
            "Requirement already satisfied: certifi>=2017.4.17 in /usr/local/lib/python3.7/dist-packages (from requests->transformers) (2021.5.30)\n",
            "Requirement already satisfied: idna<3,>=2.5 in /usr/local/lib/python3.7/dist-packages (from requests->transformers) (2.10)\n",
            "Requirement already satisfied: click in /usr/local/lib/python3.7/dist-packages (from sacremoses->transformers) (7.1.2)\n",
            "Requirement already satisfied: six in /usr/local/lib/python3.7/dist-packages (from sacremoses->transformers) (1.15.0)\n",
            "Requirement already satisfied: joblib in /usr/local/lib/python3.7/dist-packages (from sacremoses->transformers) (1.0.1)\n",
            "Requirement already satisfied: fugashi in /usr/local/lib/python3.7/dist-packages (1.1.1)\n",
            "Requirement already satisfied: ipadic in /usr/local/lib/python3.7/dist-packages (1.0.0)\n"
          ],
          "name": "stdout"
        }
      ]
    },
    {
      "cell_type": "code",
      "metadata": {
        "colab": {
          "base_uri": "https://localhost:8080/"
        },
        "id": "lXyL846c7qxA",
        "outputId": "6c69690b-5291-466b-c6de-3cd3c8bff908"
      },
      "source": [
        "import pandas as pd\n",
        "import numpy as np\n",
        "import torch\n",
        "from transformers import BertJapaneseTokenizer, BertForSequenceClassification, Trainer, TrainingArguments\n",
        "from sklearn.model_selection import train_test_split\n",
        "\n",
        "torch.cuda.is_available()"
      ],
      "execution_count": 2,
      "outputs": [
        {
          "output_type": "execute_result",
          "data": {
            "text/plain": [
              "True"
            ]
          },
          "metadata": {
            "tags": []
          },
          "execution_count": 2
        }
      ]
    },
    {
      "cell_type": "code",
      "metadata": {
        "colab": {
          "base_uri": "https://localhost:8080/"
        },
        "id": "XCLYmPxK8H6R",
        "outputId": "ebdae2f5-8a2e-4d83-a8c9-f1b881e40271"
      },
      "source": [
        "from google.colab import drive\n",
        "drive.mount('/content/drive')"
      ],
      "execution_count": 3,
      "outputs": [
        {
          "output_type": "stream",
          "text": [
            "Drive already mounted at /content/drive; to attempt to forcibly remount, call drive.mount(\"/content/drive\", force_remount=True).\n"
          ],
          "name": "stdout"
        }
      ]
    },
    {
      "cell_type": "code",
      "metadata": {
        "colab": {
          "base_uri": "https://localhost:8080/"
        },
        "id": "JtWSz2OL8QYG",
        "outputId": "b2ebae37-3384-4f53-d465-2d716e8f9b64"
      },
      "source": [
        "%cd /content/drive/MyDrive/Colab\\ Notebooks/Github_Foldar/study/\n",
        "#!git config --global user.email \"akihirosato1020@gmail.com\"\n",
        "#!git config --global user.name \"S10aki95\"\n",
        "#!git commit"
      ],
      "execution_count": 4,
      "outputs": [
        {
          "output_type": "stream",
          "text": [
            "/content/drive/MyDrive/Colab Notebooks/Github_Foldar/study\n"
          ],
          "name": "stdout"
        }
      ]
    },
    {
      "cell_type": "code",
      "metadata": {
        "colab": {
          "base_uri": "https://localhost:8080/",
          "height": 206
        },
        "id": "BGq6FjYr7qxE",
        "outputId": "406b1ce6-9580-4780-e799-fb8864e83004"
      },
      "source": [
        "df = pd.read_csv('livedoor_news.csv')\n",
        "label = df['label'].tolist()\n",
        "train = df['sentence'].tolist()\n",
        "\n",
        "df.head() #{0 : 'IT', 1 : 'スポーツ', 2 : '映画'}"
      ],
      "execution_count": 5,
      "outputs": [
        {
          "output_type": "execute_result",
          "data": {
            "text/html": [
              "<div>\n",
              "<style scoped>\n",
              "    .dataframe tbody tr th:only-of-type {\n",
              "        vertical-align: middle;\n",
              "    }\n",
              "\n",
              "    .dataframe tbody tr th {\n",
              "        vertical-align: top;\n",
              "    }\n",
              "\n",
              "    .dataframe thead th {\n",
              "        text-align: right;\n",
              "    }\n",
              "</style>\n",
              "<table border=\"1\" class=\"dataframe\">\n",
              "  <thead>\n",
              "    <tr style=\"text-align: right;\">\n",
              "      <th></th>\n",
              "      <th>Unnamed: 0</th>\n",
              "      <th>label</th>\n",
              "      <th>sentence</th>\n",
              "    </tr>\n",
              "  </thead>\n",
              "  <tbody>\n",
              "    <tr>\n",
              "      <th>0</th>\n",
              "      <td>2068</td>\n",
              "      <td>2</td>\n",
              "      <td>インタビュー：マックG監督「リメイクしたい日本のアニメは『AKIRA』かな」</td>\n",
              "    </tr>\n",
              "    <tr>\n",
              "      <th>1</th>\n",
              "      <td>898</td>\n",
              "      <td>1</td>\n",
              "      <td>【Sports Watch】なでしこジャパン勝利、決勝＝アメリカ戦の攻略ポイントは…</td>\n",
              "    </tr>\n",
              "    <tr>\n",
              "      <th>2</th>\n",
              "      <td>1971</td>\n",
              "      <td>2</td>\n",
              "      <td>女子高生シンガーのKyleeが「美人映写技師との恋」を描いた映画の主題歌担当に</td>\n",
              "    </tr>\n",
              "    <tr>\n",
              "      <th>3</th>\n",
              "      <td>1288</td>\n",
              "      <td>1</td>\n",
              "      <td>銀メダル・三宅宏実、試合後、同じ言葉が32回飛び出した!?</td>\n",
              "    </tr>\n",
              "    <tr>\n",
              "      <th>4</th>\n",
              "      <td>322</td>\n",
              "      <td>0</td>\n",
              "      <td>七人の侍によって開発された新素材！　NECのLaVie Zで使われた新素材の開発秘話【デジ通】</td>\n",
              "    </tr>\n",
              "  </tbody>\n",
              "</table>\n",
              "</div>"
            ],
            "text/plain": [
              "   Unnamed: 0  label                                         sentence\n",
              "0        2068      2           インタビュー：マックG監督「リメイクしたい日本のアニメは『AKIRA』かな」\n",
              "1         898      1       【Sports Watch】なでしこジャパン勝利、決勝＝アメリカ戦の攻略ポイントは…\n",
              "2        1971      2          女子高生シンガーのKyleeが「美人映写技師との恋」を描いた映画の主題歌担当に\n",
              "3        1288      1                    銀メダル・三宅宏実、試合後、同じ言葉が32回飛び出した!?\n",
              "4         322      0  七人の侍によって開発された新素材！　NECのLaVie Zで使われた新素材の開発秘話【デジ通】"
            ]
          },
          "metadata": {
            "tags": []
          },
          "execution_count": 5
        }
      ]
    },
    {
      "cell_type": "code",
      "metadata": {
        "id": "DkfA_NRN7qxF"
      },
      "source": [
        "train_text, test_text, train_label, test_label = train_test_split(train, label, train_size=0.8)\n",
        "\n",
        "JP_tokenizer = BertJapaneseTokenizer.from_pretrained('cl-tohoku/bert-base-japanese-whole-word-masking')\n",
        "\n",
        "#トークン化\n",
        "train_encodings = JP_tokenizer(train_text, truncation= True, padding=True)\n",
        "test_encodings = JP_tokenizer(test_text, truncation= True, padding= True)"
      ],
      "execution_count": 6,
      "outputs": []
    },
    {
      "cell_type": "code",
      "metadata": {
        "id": "3NifWyoLxmit"
      },
      "source": [
        "class IMDbDataset(torch.utils.data.Dataset):\n",
        "    def __init__(self, encodings, labels):\n",
        "        self.encodings = encodings\n",
        "        self.labels = labels\n",
        "\n",
        "    def __getitem__(self, idx):\n",
        "        item = {key: torch.tensor(val[idx]) for key, val in self.encodings.items()}\n",
        "        item['labels'] = torch.tensor(self.labels[idx])\n",
        "        return item\n",
        "\n",
        "    def __len__(self):\n",
        "        return len(self.labels)\n",
        "\n",
        "train_dataset = IMDbDataset(train_encodings, train_label)\n",
        "val_dataset = IMDbDataset(test_encodings, test_label)"
      ],
      "execution_count": 7,
      "outputs": []
    },
    {
      "cell_type": "code",
      "metadata": {
        "colab": {
          "base_uri": "https://localhost:8080/",
          "height": 1000
        },
        "id": "bqqMF0Tc7qxG",
        "outputId": "2e64a57b-311a-4869-eeb4-0afbedc684f7"
      },
      "source": [
        "model = BertForSequenceClassification.from_pretrained('cl-tohoku/bert-base-japanese-whole-word-masking', num_labels=3)\n",
        "\n",
        "#普通のトレーニング\n",
        "training_args = TrainingArguments(\n",
        "    output_dir='./results',          # output directory\n",
        "    num_train_epochs=3,              # total number of training epochs\n",
        "    per_device_train_batch_size=16,  # batch size per device during training\n",
        "    per_device_eval_batch_size=64,   # batch size for evaluation\n",
        "    warmup_steps=500,                # number of warmup steps for learning rate scheduler\n",
        "    weight_decay=0.01,               # strength of weight decay\n",
        "    logging_dir='./logs',            # directory for storing logs\n",
        "    logging_steps=10,\n",
        ")\n",
        "\n",
        "trainer = Trainer(\n",
        "    model=model,                         # the instantiated 🤗 Transformers model to be trained\n",
        "    args=training_args,                  # training arguments, defined above\n",
        "    train_dataset=train_dataset,         # training dataset\n",
        "    eval_dataset=val_dataset             # evaluation dataset\n",
        ")\n",
        "\n",
        "trainer.train()"
      ],
      "execution_count": 8,
      "outputs": [
        {
          "output_type": "stream",
          "text": [
            "Some weights of the model checkpoint at cl-tohoku/bert-base-japanese-whole-word-masking were not used when initializing BertForSequenceClassification: ['cls.seq_relationship.weight', 'cls.predictions.bias', 'cls.predictions.transform.dense.bias', 'cls.seq_relationship.bias', 'cls.predictions.decoder.weight', 'cls.predictions.transform.LayerNorm.bias', 'cls.predictions.transform.dense.weight', 'cls.predictions.transform.LayerNorm.weight']\n",
            "- This IS expected if you are initializing BertForSequenceClassification from the checkpoint of a model trained on another task or with another architecture (e.g. initializing a BertForSequenceClassification model from a BertForPreTraining model).\n",
            "- This IS NOT expected if you are initializing BertForSequenceClassification from the checkpoint of a model that you expect to be exactly identical (initializing a BertForSequenceClassification model from a BertForSequenceClassification model).\n",
            "Some weights of BertForSequenceClassification were not initialized from the model checkpoint at cl-tohoku/bert-base-japanese-whole-word-masking and are newly initialized: ['classifier.bias', 'classifier.weight']\n",
            "You should probably TRAIN this model on a down-stream task to be able to use it for predictions and inference.\n",
            "***** Running training *****\n",
            "  Num examples = 2114\n",
            "  Num Epochs = 3\n",
            "  Instantaneous batch size per device = 16\n",
            "  Total train batch size (w. parallel, distributed & accumulation) = 16\n",
            "  Gradient Accumulation steps = 1\n",
            "  Total optimization steps = 399\n"
          ],
          "name": "stderr"
        },
        {
          "output_type": "display_data",
          "data": {
            "text/html": [
              "\n",
              "    <div>\n",
              "      \n",
              "      <progress value='399' max='399' style='width:300px; height:20px; vertical-align: middle;'></progress>\n",
              "      [399/399 00:59, Epoch 3/3]\n",
              "    </div>\n",
              "    <table border=\"1\" class=\"dataframe\">\n",
              "  <thead>\n",
              "    <tr style=\"text-align: left;\">\n",
              "      <th>Step</th>\n",
              "      <th>Training Loss</th>\n",
              "    </tr>\n",
              "  </thead>\n",
              "  <tbody>\n",
              "    <tr>\n",
              "      <td>10</td>\n",
              "      <td>1.075700</td>\n",
              "    </tr>\n",
              "    <tr>\n",
              "      <td>20</td>\n",
              "      <td>1.092200</td>\n",
              "    </tr>\n",
              "    <tr>\n",
              "      <td>30</td>\n",
              "      <td>1.065400</td>\n",
              "    </tr>\n",
              "    <tr>\n",
              "      <td>40</td>\n",
              "      <td>1.028400</td>\n",
              "    </tr>\n",
              "    <tr>\n",
              "      <td>50</td>\n",
              "      <td>0.982100</td>\n",
              "    </tr>\n",
              "    <tr>\n",
              "      <td>60</td>\n",
              "      <td>0.929400</td>\n",
              "    </tr>\n",
              "    <tr>\n",
              "      <td>70</td>\n",
              "      <td>0.863600</td>\n",
              "    </tr>\n",
              "    <tr>\n",
              "      <td>80</td>\n",
              "      <td>0.724500</td>\n",
              "    </tr>\n",
              "    <tr>\n",
              "      <td>90</td>\n",
              "      <td>0.566900</td>\n",
              "    </tr>\n",
              "    <tr>\n",
              "      <td>100</td>\n",
              "      <td>0.429200</td>\n",
              "    </tr>\n",
              "    <tr>\n",
              "      <td>110</td>\n",
              "      <td>0.306000</td>\n",
              "    </tr>\n",
              "    <tr>\n",
              "      <td>120</td>\n",
              "      <td>0.292200</td>\n",
              "    </tr>\n",
              "    <tr>\n",
              "      <td>130</td>\n",
              "      <td>0.176300</td>\n",
              "    </tr>\n",
              "    <tr>\n",
              "      <td>140</td>\n",
              "      <td>0.141200</td>\n",
              "    </tr>\n",
              "    <tr>\n",
              "      <td>150</td>\n",
              "      <td>0.118700</td>\n",
              "    </tr>\n",
              "    <tr>\n",
              "      <td>160</td>\n",
              "      <td>0.072000</td>\n",
              "    </tr>\n",
              "    <tr>\n",
              "      <td>170</td>\n",
              "      <td>0.137700</td>\n",
              "    </tr>\n",
              "    <tr>\n",
              "      <td>180</td>\n",
              "      <td>0.051100</td>\n",
              "    </tr>\n",
              "    <tr>\n",
              "      <td>190</td>\n",
              "      <td>0.144700</td>\n",
              "    </tr>\n",
              "    <tr>\n",
              "      <td>200</td>\n",
              "      <td>0.142700</td>\n",
              "    </tr>\n",
              "    <tr>\n",
              "      <td>210</td>\n",
              "      <td>0.140200</td>\n",
              "    </tr>\n",
              "    <tr>\n",
              "      <td>220</td>\n",
              "      <td>0.070500</td>\n",
              "    </tr>\n",
              "    <tr>\n",
              "      <td>230</td>\n",
              "      <td>0.219700</td>\n",
              "    </tr>\n",
              "    <tr>\n",
              "      <td>240</td>\n",
              "      <td>0.152900</td>\n",
              "    </tr>\n",
              "    <tr>\n",
              "      <td>250</td>\n",
              "      <td>0.106200</td>\n",
              "    </tr>\n",
              "    <tr>\n",
              "      <td>260</td>\n",
              "      <td>0.095700</td>\n",
              "    </tr>\n",
              "    <tr>\n",
              "      <td>270</td>\n",
              "      <td>0.039800</td>\n",
              "    </tr>\n",
              "    <tr>\n",
              "      <td>280</td>\n",
              "      <td>0.012400</td>\n",
              "    </tr>\n",
              "    <tr>\n",
              "      <td>290</td>\n",
              "      <td>0.036900</td>\n",
              "    </tr>\n",
              "    <tr>\n",
              "      <td>300</td>\n",
              "      <td>0.060500</td>\n",
              "    </tr>\n",
              "    <tr>\n",
              "      <td>310</td>\n",
              "      <td>0.049000</td>\n",
              "    </tr>\n",
              "    <tr>\n",
              "      <td>320</td>\n",
              "      <td>0.046400</td>\n",
              "    </tr>\n",
              "    <tr>\n",
              "      <td>330</td>\n",
              "      <td>0.017600</td>\n",
              "    </tr>\n",
              "    <tr>\n",
              "      <td>340</td>\n",
              "      <td>0.034200</td>\n",
              "    </tr>\n",
              "    <tr>\n",
              "      <td>350</td>\n",
              "      <td>0.079400</td>\n",
              "    </tr>\n",
              "    <tr>\n",
              "      <td>360</td>\n",
              "      <td>0.065800</td>\n",
              "    </tr>\n",
              "    <tr>\n",
              "      <td>370</td>\n",
              "      <td>0.016800</td>\n",
              "    </tr>\n",
              "    <tr>\n",
              "      <td>380</td>\n",
              "      <td>0.067700</td>\n",
              "    </tr>\n",
              "    <tr>\n",
              "      <td>390</td>\n",
              "      <td>0.055100</td>\n",
              "    </tr>\n",
              "  </tbody>\n",
              "</table><p>"
            ],
            "text/plain": [
              "<IPython.core.display.HTML object>"
            ]
          },
          "metadata": {
            "tags": []
          }
        },
        {
          "output_type": "stream",
          "text": [
            "\n",
            "\n",
            "Training completed. Do not forget to share your model on huggingface.co/models =)\n",
            "\n",
            "\n"
          ],
          "name": "stderr"
        },
        {
          "output_type": "execute_result",
          "data": {
            "text/plain": [
              "TrainOutput(global_step=399, training_loss=0.2941314592434649, metrics={'train_runtime': 59.8747, 'train_samples_per_second': 105.921, 'train_steps_per_second': 6.664, 'total_flos': 130364476189920.0, 'train_loss': 0.2941314592434649, 'epoch': 3.0})"
            ]
          },
          "metadata": {
            "tags": []
          },
          "execution_count": 8
        }
      ]
    },
    {
      "cell_type": "code",
      "metadata": {
        "colab": {
          "base_uri": "https://localhost:8080/"
        },
        "id": "1EahvFTLZ-ph",
        "outputId": "f3e817e6-4997-475a-cd46-b99444328c45"
      },
      "source": [
        "from transformers import pipeline\n",
        "\n",
        "device = torch.device(\"cuda\") if torch.cuda.is_available() else torch.device(\"cpu\")\n",
        "classification = pipeline(\"text-classification\", model = model, tokenizer = JP_tokenizer, device = 0)\n",
        "\n",
        "classification(\"なでしこジャパン　決勝戦、映画化決定！優勝の秘訣に迫る\")"
      ],
      "execution_count": 9,
      "outputs": [
        {
          "output_type": "execute_result",
          "data": {
            "text/plain": [
              "[{'label': 'LABEL_1', 'score': 0.9662666320800781}]"
            ]
          },
          "metadata": {
            "tags": []
          },
          "execution_count": 9
        }
      ]
    },
    {
      "cell_type": "code",
      "metadata": {
        "colab": {
          "base_uri": "https://localhost:8080/",
          "height": 181
        },
        "id": "ZrU9JaKCd4H-",
        "outputId": "5ed7e5ff-0aa9-46a9-c6fb-eb252f7d0a9c"
      },
      "source": [
        "trainer.evaluate()"
      ],
      "execution_count": 10,
      "outputs": [
        {
          "output_type": "stream",
          "text": [
            "***** Running Evaluation *****\n",
            "  Num examples = 529\n",
            "  Batch size = 64\n"
          ],
          "name": "stderr"
        },
        {
          "output_type": "display_data",
          "data": {
            "text/html": [
              "\n",
              "    <div>\n",
              "      \n",
              "      <progress value='9' max='9' style='width:300px; height:20px; vertical-align: middle;'></progress>\n",
              "      [9/9 00:01]\n",
              "    </div>\n",
              "    "
            ],
            "text/plain": [
              "<IPython.core.display.HTML object>"
            ]
          },
          "metadata": {
            "tags": []
          }
        },
        {
          "output_type": "execute_result",
          "data": {
            "text/plain": [
              "{'epoch': 3.0,\n",
              " 'eval_loss': 0.15481527149677277,\n",
              " 'eval_runtime': 1.256,\n",
              " 'eval_samples_per_second': 421.195,\n",
              " 'eval_steps_per_second': 7.166}"
            ]
          },
          "metadata": {
            "tags": []
          },
          "execution_count": 10
        }
      ]
    },
    {
      "cell_type": "markdown",
      "metadata": {
        "id": "4P2yl_fM-Qdg"
      },
      "source": [
        "# 学習率の調整\n",
        "\n",
        "“How to Fine-Tune BERT for Text Classification?”の5.3.4より、レイヤー毎に学習率を変更してトレーニングさせる。基本的な発想としては、論文の(2)の式と同様に$l$番目の層に対しての学習率を$\\eta^l$としたとき、\n",
        "\\begin{equation}\n",
        "\\eta^l = \\xi \\eta^{l + 1}\n",
        "\\end{equation}\n",
        "として計算している。ただし、ここで$\\xi (\\in [0,1])$は\"Decaying factor\"\n",
        "\n"
      ]
    },
    {
      "cell_type": "markdown",
      "metadata": {
        "id": "BvYrLb7TAIyG"
      },
      "source": [
        "![image.png](data:image/png;base64,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)"
      ]
    },
    {
      "cell_type": "markdown",
      "metadata": {
        "id": "uUv1rdTHH72t"
      },
      "source": [
        "以下は、論文中の結果についてここでは、論文と同様に、\n",
        "\n",
        "\n",
        "> Learning rate : $2.0e^{-5}$, Decaying Factor : $0.95$\n",
        "\n",
        "で試してみる。"
      ]
    },
    {
      "cell_type": "code",
      "metadata": {
        "colab": {
          "base_uri": "https://localhost:8080/"
        },
        "id": "TXi1-gf-LSax",
        "outputId": "ca485540-49ee-4475-d906-c662fa4b1fd3"
      },
      "source": [
        "#モデルの読み込み\n",
        "model = BertForSequenceClassification.from_pretrained('cl-tohoku/bert-base-japanese-whole-word-masking', num_labels=3)\n",
        "\n",
        "#モデルの構造を把握する\n",
        "#[name for name, _ in model.state_dict().items()]"
      ],
      "execution_count": 11,
      "outputs": [
        {
          "output_type": "stream",
          "text": [
            "loading configuration file https://huggingface.co/cl-tohoku/bert-base-japanese-whole-word-masking/resolve/main/config.json from cache at /root/.cache/huggingface/transformers/573af37b6c39d672f2df687c06ad7d556476cbe43e5bf7771097187c45a3e7bf.abeb707b5d79387dd462e8bfb724637d856e98434b6931c769b8716c6f287258\n",
            "Model config BertConfig {\n",
            "  \"architectures\": [\n",
            "    \"BertForMaskedLM\"\n",
            "  ],\n",
            "  \"attention_probs_dropout_prob\": 0.1,\n",
            "  \"gradient_checkpointing\": false,\n",
            "  \"hidden_act\": \"gelu\",\n",
            "  \"hidden_dropout_prob\": 0.1,\n",
            "  \"hidden_size\": 768,\n",
            "  \"id2label\": {\n",
            "    \"0\": \"LABEL_0\",\n",
            "    \"1\": \"LABEL_1\",\n",
            "    \"2\": \"LABEL_2\"\n",
            "  },\n",
            "  \"initializer_range\": 0.02,\n",
            "  \"intermediate_size\": 3072,\n",
            "  \"label2id\": {\n",
            "    \"LABEL_0\": 0,\n",
            "    \"LABEL_1\": 1,\n",
            "    \"LABEL_2\": 2\n",
            "  },\n",
            "  \"layer_norm_eps\": 1e-12,\n",
            "  \"max_position_embeddings\": 512,\n",
            "  \"model_type\": \"bert\",\n",
            "  \"num_attention_heads\": 12,\n",
            "  \"num_hidden_layers\": 12,\n",
            "  \"pad_token_id\": 0,\n",
            "  \"position_embedding_type\": \"absolute\",\n",
            "  \"tokenizer_class\": \"BertJapaneseTokenizer\",\n",
            "  \"transformers_version\": \"4.9.1\",\n",
            "  \"type_vocab_size\": 2,\n",
            "  \"use_cache\": true,\n",
            "  \"vocab_size\": 32000\n",
            "}\n",
            "\n",
            "loading weights file https://huggingface.co/cl-tohoku/bert-base-japanese-whole-word-masking/resolve/main/pytorch_model.bin from cache at /root/.cache/huggingface/transformers/cabd9bbd81093f4c494a02e34eb57e405b7564db216404108c8e8caf10ede4fa.464b54997e35e3cc3223ba6d7f0abdaeb7be5b7648f275f57d839ee0f95611fb\n",
            "Some weights of the model checkpoint at cl-tohoku/bert-base-japanese-whole-word-masking were not used when initializing BertForSequenceClassification: ['cls.seq_relationship.weight', 'cls.predictions.bias', 'cls.predictions.transform.dense.bias', 'cls.seq_relationship.bias', 'cls.predictions.decoder.weight', 'cls.predictions.transform.LayerNorm.bias', 'cls.predictions.transform.dense.weight', 'cls.predictions.transform.LayerNorm.weight']\n",
            "- This IS expected if you are initializing BertForSequenceClassification from the checkpoint of a model trained on another task or with another architecture (e.g. initializing a BertForSequenceClassification model from a BertForPreTraining model).\n",
            "- This IS NOT expected if you are initializing BertForSequenceClassification from the checkpoint of a model that you expect to be exactly identical (initializing a BertForSequenceClassification model from a BertForSequenceClassification model).\n",
            "Some weights of BertForSequenceClassification were not initialized from the model checkpoint at cl-tohoku/bert-base-japanese-whole-word-masking and are newly initialized: ['classifier.bias', 'classifier.weight']\n",
            "You should probably TRAIN this model on a down-stream task to be able to use it for predictions and inference.\n"
          ],
          "name": "stderr"
        }
      ]
    },
    {
      "cell_type": "code",
      "metadata": {
        "id": "rF4VxzF27qxH"
      },
      "source": [
        "from transformers import AdamW\n",
        "\n",
        "Decay_factor = 0.95\n",
        "learning_rate = 2.0e-5\n",
        "\n",
        "#Emmbedding Layer, Encoder Layer 0～11, Pooling Layer, Classifer Layerの、15個のレイヤーについての学習率を用意する\n",
        "LearingRate_list = [learning_rate * (Decay_factor ** i) for i in range(15)]\n",
        "\n",
        "Emmbedding_lr = [{'params' : model.bert.embeddings.parameters(), 'lr' : LearingRate_list[0]}]\n",
        "Layers_lr = [{'params' : layer.parameters(), 'lr' : LearingRate_list[i+1]} for i, layer in enumerate(model.bert.encoder.layer)]\n",
        "Pooling_lr = [{'params' : model.bert.pooler.parameters(), 'lr' : LearingRate_list[13]}]\n",
        "Classifer_lr = [{'params' : model.classifier.parameters(), 'lr' : LearingRate_list[14]}]\n",
        "\n",
        "optim = AdamW(Emmbedding_lr + Layers_lr + Pooling_lr + Classifer_lr)"
      ],
      "execution_count": 12,
      "outputs": []
    },
    {
      "cell_type": "code",
      "metadata": {
        "id": "GHAHuZ4i7qxH",
        "colab": {
          "base_uri": "https://localhost:8080/"
        },
        "outputId": "e47ad3ed-81ab-4970-c5f8-ef9b6cde50f2"
      },
      "source": [
        "from torch.utils.data import DataLoader\n",
        "from tqdm import tqdm\n",
        "\n",
        "device = torch.device('cuda') if torch.cuda.is_available() else torch.device('cpu')\n",
        "model.to(device)\n",
        "model.train()\n",
        "\n",
        "train_loader = DataLoader(train_dataset, batch_size=16, shuffle=True)\n",
        "\n",
        "for epoch in range(3):\n",
        "    running_loss = 0.0\n",
        "    for i,batch in enumerate(tqdm(train_loader)):\n",
        "        optim.zero_grad()\n",
        "        input_ids = batch['input_ids'].to(device)\n",
        "        attention_mask = batch['attention_mask'].to(device)\n",
        "        labels = batch['labels'].to(device)\n",
        "        outputs = model(input_ids, attention_mask=attention_mask, labels=labels)\n",
        "        loss = outputs[0]\n",
        "        loss.backward()\n",
        "        optim.step()\n",
        "\n",
        "        # print statistics\n",
        "        running_loss += loss.item()\n",
        "        if i % 10 == 9:    # print every 10 mini-batches\n",
        "            print('[%d, %5d] loss: %.3f' %(epoch + 1, i + 1, running_loss / 10))\n",
        "            running_loss = 0.0\n",
        "            \n",
        "model.eval()"
      ],
      "execution_count": 13,
      "outputs": [
        {
          "output_type": "stream",
          "text": [
            "  8%|▊         | 11/133 [00:01<00:17,  7.02it/s]"
          ],
          "name": "stderr"
        },
        {
          "output_type": "stream",
          "text": [
            "[1,    10] loss: 1.078\n"
          ],
          "name": "stdout"
        },
        {
          "output_type": "stream",
          "text": [
            " 16%|█▌        | 21/133 [00:02<00:15,  7.16it/s]"
          ],
          "name": "stderr"
        },
        {
          "output_type": "stream",
          "text": [
            "[1,    20] loss: 0.937\n"
          ],
          "name": "stdout"
        },
        {
          "output_type": "stream",
          "text": [
            " 23%|██▎       | 31/133 [00:04<00:14,  7.19it/s]"
          ],
          "name": "stderr"
        },
        {
          "output_type": "stream",
          "text": [
            "[1,    30] loss: 0.772\n"
          ],
          "name": "stdout"
        },
        {
          "output_type": "stream",
          "text": [
            " 31%|███       | 41/133 [00:05<00:12,  7.18it/s]"
          ],
          "name": "stderr"
        },
        {
          "output_type": "stream",
          "text": [
            "[1,    40] loss: 0.614\n"
          ],
          "name": "stdout"
        },
        {
          "output_type": "stream",
          "text": [
            " 38%|███▊      | 51/133 [00:07<00:11,  7.18it/s]"
          ],
          "name": "stderr"
        },
        {
          "output_type": "stream",
          "text": [
            "[1,    50] loss: 0.433\n"
          ],
          "name": "stdout"
        },
        {
          "output_type": "stream",
          "text": [
            " 46%|████▌     | 61/133 [00:08<00:10,  7.14it/s]"
          ],
          "name": "stderr"
        },
        {
          "output_type": "stream",
          "text": [
            "[1,    60] loss: 0.325\n"
          ],
          "name": "stdout"
        },
        {
          "output_type": "stream",
          "text": [
            " 53%|█████▎    | 71/133 [00:09<00:08,  7.15it/s]"
          ],
          "name": "stderr"
        },
        {
          "output_type": "stream",
          "text": [
            "[1,    70] loss: 0.283\n"
          ],
          "name": "stdout"
        },
        {
          "output_type": "stream",
          "text": [
            " 61%|██████    | 81/133 [00:11<00:07,  7.06it/s]"
          ],
          "name": "stderr"
        },
        {
          "output_type": "stream",
          "text": [
            "[1,    80] loss: 0.304\n"
          ],
          "name": "stdout"
        },
        {
          "output_type": "stream",
          "text": [
            " 68%|██████▊   | 91/133 [00:12<00:05,  7.11it/s]"
          ],
          "name": "stderr"
        },
        {
          "output_type": "stream",
          "text": [
            "[1,    90] loss: 0.228\n"
          ],
          "name": "stdout"
        },
        {
          "output_type": "stream",
          "text": [
            " 76%|███████▌  | 101/133 [00:14<00:04,  7.11it/s]"
          ],
          "name": "stderr"
        },
        {
          "output_type": "stream",
          "text": [
            "[1,   100] loss: 0.181\n"
          ],
          "name": "stdout"
        },
        {
          "output_type": "stream",
          "text": [
            " 83%|████████▎ | 111/133 [00:15<00:03,  7.05it/s]"
          ],
          "name": "stderr"
        },
        {
          "output_type": "stream",
          "text": [
            "[1,   110] loss: 0.182\n"
          ],
          "name": "stdout"
        },
        {
          "output_type": "stream",
          "text": [
            " 91%|█████████ | 121/133 [00:17<00:01,  7.05it/s]"
          ],
          "name": "stderr"
        },
        {
          "output_type": "stream",
          "text": [
            "[1,   120] loss: 0.126\n"
          ],
          "name": "stdout"
        },
        {
          "output_type": "stream",
          "text": [
            " 98%|█████████▊| 131/133 [00:18<00:00,  7.12it/s]"
          ],
          "name": "stderr"
        },
        {
          "output_type": "stream",
          "text": [
            "[1,   130] loss: 0.127\n"
          ],
          "name": "stdout"
        },
        {
          "output_type": "stream",
          "text": [
            "100%|██████████| 133/133 [00:18<00:00,  7.13it/s]\n",
            "  8%|▊         | 11/133 [00:01<00:17,  7.09it/s]"
          ],
          "name": "stderr"
        },
        {
          "output_type": "stream",
          "text": [
            "[2,    10] loss: 0.134\n"
          ],
          "name": "stdout"
        },
        {
          "output_type": "stream",
          "text": [
            " 16%|█▌        | 21/133 [00:02<00:15,  7.04it/s]"
          ],
          "name": "stderr"
        },
        {
          "output_type": "stream",
          "text": [
            "[2,    20] loss: 0.179\n"
          ],
          "name": "stdout"
        },
        {
          "output_type": "stream",
          "text": [
            " 23%|██▎       | 31/133 [00:04<00:14,  7.06it/s]"
          ],
          "name": "stderr"
        },
        {
          "output_type": "stream",
          "text": [
            "[2,    30] loss: 0.108\n"
          ],
          "name": "stdout"
        },
        {
          "output_type": "stream",
          "text": [
            " 31%|███       | 41/133 [00:05<00:13,  7.02it/s]"
          ],
          "name": "stderr"
        },
        {
          "output_type": "stream",
          "text": [
            "[2,    40] loss: 0.075\n"
          ],
          "name": "stdout"
        },
        {
          "output_type": "stream",
          "text": [
            " 38%|███▊      | 51/133 [00:07<00:11,  7.02it/s]"
          ],
          "name": "stderr"
        },
        {
          "output_type": "stream",
          "text": [
            "[2,    50] loss: 0.079\n"
          ],
          "name": "stdout"
        },
        {
          "output_type": "stream",
          "text": [
            " 46%|████▌     | 61/133 [00:08<00:10,  6.99it/s]"
          ],
          "name": "stderr"
        },
        {
          "output_type": "stream",
          "text": [
            "[2,    60] loss: 0.082\n"
          ],
          "name": "stdout"
        },
        {
          "output_type": "stream",
          "text": [
            " 53%|█████▎    | 71/133 [00:10<00:08,  7.01it/s]"
          ],
          "name": "stderr"
        },
        {
          "output_type": "stream",
          "text": [
            "[2,    70] loss: 0.063\n"
          ],
          "name": "stdout"
        },
        {
          "output_type": "stream",
          "text": [
            " 61%|██████    | 81/133 [00:11<00:07,  7.03it/s]"
          ],
          "name": "stderr"
        },
        {
          "output_type": "stream",
          "text": [
            "[2,    80] loss: 0.089\n"
          ],
          "name": "stdout"
        },
        {
          "output_type": "stream",
          "text": [
            " 68%|██████▊   | 91/133 [00:12<00:05,  7.00it/s]"
          ],
          "name": "stderr"
        },
        {
          "output_type": "stream",
          "text": [
            "[2,    90] loss: 0.049\n"
          ],
          "name": "stdout"
        },
        {
          "output_type": "stream",
          "text": [
            " 76%|███████▌  | 101/133 [00:14<00:04,  7.01it/s]"
          ],
          "name": "stderr"
        },
        {
          "output_type": "stream",
          "text": [
            "[2,   100] loss: 0.072\n"
          ],
          "name": "stdout"
        },
        {
          "output_type": "stream",
          "text": [
            " 83%|████████▎ | 111/133 [00:15<00:03,  7.02it/s]"
          ],
          "name": "stderr"
        },
        {
          "output_type": "stream",
          "text": [
            "[2,   110] loss: 0.046\n"
          ],
          "name": "stdout"
        },
        {
          "output_type": "stream",
          "text": [
            " 91%|█████████ | 121/133 [00:17<00:01,  7.02it/s]"
          ],
          "name": "stderr"
        },
        {
          "output_type": "stream",
          "text": [
            "[2,   120] loss: 0.100\n"
          ],
          "name": "stdout"
        },
        {
          "output_type": "stream",
          "text": [
            " 98%|█████████▊| 131/133 [00:18<00:00,  7.04it/s]"
          ],
          "name": "stderr"
        },
        {
          "output_type": "stream",
          "text": [
            "[2,   130] loss: 0.052\n"
          ],
          "name": "stdout"
        },
        {
          "output_type": "stream",
          "text": [
            "100%|██████████| 133/133 [00:18<00:00,  7.06it/s]\n",
            "  8%|▊         | 11/133 [00:01<00:17,  7.04it/s]"
          ],
          "name": "stderr"
        },
        {
          "output_type": "stream",
          "text": [
            "[3,    10] loss: 0.025\n"
          ],
          "name": "stdout"
        },
        {
          "output_type": "stream",
          "text": [
            " 16%|█▌        | 21/133 [00:02<00:16,  6.99it/s]"
          ],
          "name": "stderr"
        },
        {
          "output_type": "stream",
          "text": [
            "[3,    20] loss: 0.014\n"
          ],
          "name": "stdout"
        },
        {
          "output_type": "stream",
          "text": [
            " 23%|██▎       | 31/133 [00:04<00:14,  6.99it/s]"
          ],
          "name": "stderr"
        },
        {
          "output_type": "stream",
          "text": [
            "[3,    30] loss: 0.018\n"
          ],
          "name": "stdout"
        },
        {
          "output_type": "stream",
          "text": [
            " 31%|███       | 41/133 [00:05<00:13,  7.03it/s]"
          ],
          "name": "stderr"
        },
        {
          "output_type": "stream",
          "text": [
            "[3,    40] loss: 0.023\n"
          ],
          "name": "stdout"
        },
        {
          "output_type": "stream",
          "text": [
            " 38%|███▊      | 51/133 [00:07<00:11,  7.06it/s]"
          ],
          "name": "stderr"
        },
        {
          "output_type": "stream",
          "text": [
            "[3,    50] loss: 0.016\n"
          ],
          "name": "stdout"
        },
        {
          "output_type": "stream",
          "text": [
            " 46%|████▌     | 61/133 [00:08<00:10,  6.98it/s]"
          ],
          "name": "stderr"
        },
        {
          "output_type": "stream",
          "text": [
            "[3,    60] loss: 0.011\n"
          ],
          "name": "stdout"
        },
        {
          "output_type": "stream",
          "text": [
            " 53%|█████▎    | 71/133 [00:10<00:08,  7.03it/s]"
          ],
          "name": "stderr"
        },
        {
          "output_type": "stream",
          "text": [
            "[3,    70] loss: 0.011\n"
          ],
          "name": "stdout"
        },
        {
          "output_type": "stream",
          "text": [
            " 61%|██████    | 81/133 [00:11<00:07,  7.03it/s]"
          ],
          "name": "stderr"
        },
        {
          "output_type": "stream",
          "text": [
            "[3,    80] loss: 0.040\n"
          ],
          "name": "stdout"
        },
        {
          "output_type": "stream",
          "text": [
            " 68%|██████▊   | 91/133 [00:12<00:05,  7.01it/s]"
          ],
          "name": "stderr"
        },
        {
          "output_type": "stream",
          "text": [
            "[3,    90] loss: 0.077\n"
          ],
          "name": "stdout"
        },
        {
          "output_type": "stream",
          "text": [
            " 76%|███████▌  | 101/133 [00:14<00:04,  7.04it/s]"
          ],
          "name": "stderr"
        },
        {
          "output_type": "stream",
          "text": [
            "[3,   100] loss: 0.019\n"
          ],
          "name": "stdout"
        },
        {
          "output_type": "stream",
          "text": [
            " 83%|████████▎ | 111/133 [00:15<00:03,  7.06it/s]"
          ],
          "name": "stderr"
        },
        {
          "output_type": "stream",
          "text": [
            "[3,   110] loss: 0.047\n"
          ],
          "name": "stdout"
        },
        {
          "output_type": "stream",
          "text": [
            " 91%|█████████ | 121/133 [00:17<00:01,  7.05it/s]"
          ],
          "name": "stderr"
        },
        {
          "output_type": "stream",
          "text": [
            "[3,   120] loss: 0.010\n"
          ],
          "name": "stdout"
        },
        {
          "output_type": "stream",
          "text": [
            " 98%|█████████▊| 131/133 [00:18<00:00,  7.03it/s]"
          ],
          "name": "stderr"
        },
        {
          "output_type": "stream",
          "text": [
            "[3,   130] loss: 0.023\n"
          ],
          "name": "stdout"
        },
        {
          "output_type": "stream",
          "text": [
            "100%|██████████| 133/133 [00:18<00:00,  7.06it/s]\n"
          ],
          "name": "stderr"
        },
        {
          "output_type": "execute_result",
          "data": {
            "text/plain": [
              "BertForSequenceClassification(\n",
              "  (bert): BertModel(\n",
              "    (embeddings): BertEmbeddings(\n",
              "      (word_embeddings): Embedding(32000, 768, padding_idx=0)\n",
              "      (position_embeddings): Embedding(512, 768)\n",
              "      (token_type_embeddings): Embedding(2, 768)\n",
              "      (LayerNorm): LayerNorm((768,), eps=1e-12, elementwise_affine=True)\n",
              "      (dropout): Dropout(p=0.1, inplace=False)\n",
              "    )\n",
              "    (encoder): BertEncoder(\n",
              "      (layer): ModuleList(\n",
              "        (0): BertLayer(\n",
              "          (attention): BertAttention(\n",
              "            (self): BertSelfAttention(\n",
              "              (query): Linear(in_features=768, out_features=768, bias=True)\n",
              "              (key): Linear(in_features=768, out_features=768, bias=True)\n",
              "              (value): Linear(in_features=768, out_features=768, bias=True)\n",
              "              (dropout): Dropout(p=0.1, inplace=False)\n",
              "            )\n",
              "            (output): BertSelfOutput(\n",
              "              (dense): Linear(in_features=768, out_features=768, bias=True)\n",
              "              (LayerNorm): LayerNorm((768,), eps=1e-12, elementwise_affine=True)\n",
              "              (dropout): Dropout(p=0.1, inplace=False)\n",
              "            )\n",
              "          )\n",
              "          (intermediate): BertIntermediate(\n",
              "            (dense): Linear(in_features=768, out_features=3072, bias=True)\n",
              "          )\n",
              "          (output): BertOutput(\n",
              "            (dense): Linear(in_features=3072, out_features=768, bias=True)\n",
              "            (LayerNorm): LayerNorm((768,), eps=1e-12, elementwise_affine=True)\n",
              "            (dropout): Dropout(p=0.1, inplace=False)\n",
              "          )\n",
              "        )\n",
              "        (1): BertLayer(\n",
              "          (attention): BertAttention(\n",
              "            (self): BertSelfAttention(\n",
              "              (query): Linear(in_features=768, out_features=768, bias=True)\n",
              "              (key): Linear(in_features=768, out_features=768, bias=True)\n",
              "              (value): Linear(in_features=768, out_features=768, bias=True)\n",
              "              (dropout): Dropout(p=0.1, inplace=False)\n",
              "            )\n",
              "            (output): BertSelfOutput(\n",
              "              (dense): Linear(in_features=768, out_features=768, bias=True)\n",
              "              (LayerNorm): LayerNorm((768,), eps=1e-12, elementwise_affine=True)\n",
              "              (dropout): Dropout(p=0.1, inplace=False)\n",
              "            )\n",
              "          )\n",
              "          (intermediate): BertIntermediate(\n",
              "            (dense): Linear(in_features=768, out_features=3072, bias=True)\n",
              "          )\n",
              "          (output): BertOutput(\n",
              "            (dense): Linear(in_features=3072, out_features=768, bias=True)\n",
              "            (LayerNorm): LayerNorm((768,), eps=1e-12, elementwise_affine=True)\n",
              "            (dropout): Dropout(p=0.1, inplace=False)\n",
              "          )\n",
              "        )\n",
              "        (2): BertLayer(\n",
              "          (attention): BertAttention(\n",
              "            (self): BertSelfAttention(\n",
              "              (query): Linear(in_features=768, out_features=768, bias=True)\n",
              "              (key): Linear(in_features=768, out_features=768, bias=True)\n",
              "              (value): Linear(in_features=768, out_features=768, bias=True)\n",
              "              (dropout): Dropout(p=0.1, inplace=False)\n",
              "            )\n",
              "            (output): BertSelfOutput(\n",
              "              (dense): Linear(in_features=768, out_features=768, bias=True)\n",
              "              (LayerNorm): LayerNorm((768,), eps=1e-12, elementwise_affine=True)\n",
              "              (dropout): Dropout(p=0.1, inplace=False)\n",
              "            )\n",
              "          )\n",
              "          (intermediate): BertIntermediate(\n",
              "            (dense): Linear(in_features=768, out_features=3072, bias=True)\n",
              "          )\n",
              "          (output): BertOutput(\n",
              "            (dense): Linear(in_features=3072, out_features=768, bias=True)\n",
              "            (LayerNorm): LayerNorm((768,), eps=1e-12, elementwise_affine=True)\n",
              "            (dropout): Dropout(p=0.1, inplace=False)\n",
              "          )\n",
              "        )\n",
              "        (3): BertLayer(\n",
              "          (attention): BertAttention(\n",
              "            (self): BertSelfAttention(\n",
              "              (query): Linear(in_features=768, out_features=768, bias=True)\n",
              "              (key): Linear(in_features=768, out_features=768, bias=True)\n",
              "              (value): Linear(in_features=768, out_features=768, bias=True)\n",
              "              (dropout): Dropout(p=0.1, inplace=False)\n",
              "            )\n",
              "            (output): BertSelfOutput(\n",
              "              (dense): Linear(in_features=768, out_features=768, bias=True)\n",
              "              (LayerNorm): LayerNorm((768,), eps=1e-12, elementwise_affine=True)\n",
              "              (dropout): Dropout(p=0.1, inplace=False)\n",
              "            )\n",
              "          )\n",
              "          (intermediate): BertIntermediate(\n",
              "            (dense): Linear(in_features=768, out_features=3072, bias=True)\n",
              "          )\n",
              "          (output): BertOutput(\n",
              "            (dense): Linear(in_features=3072, out_features=768, bias=True)\n",
              "            (LayerNorm): LayerNorm((768,), eps=1e-12, elementwise_affine=True)\n",
              "            (dropout): Dropout(p=0.1, inplace=False)\n",
              "          )\n",
              "        )\n",
              "        (4): BertLayer(\n",
              "          (attention): BertAttention(\n",
              "            (self): BertSelfAttention(\n",
              "              (query): Linear(in_features=768, out_features=768, bias=True)\n",
              "              (key): Linear(in_features=768, out_features=768, bias=True)\n",
              "              (value): Linear(in_features=768, out_features=768, bias=True)\n",
              "              (dropout): Dropout(p=0.1, inplace=False)\n",
              "            )\n",
              "            (output): BertSelfOutput(\n",
              "              (dense): Linear(in_features=768, out_features=768, bias=True)\n",
              "              (LayerNorm): LayerNorm((768,), eps=1e-12, elementwise_affine=True)\n",
              "              (dropout): Dropout(p=0.1, inplace=False)\n",
              "            )\n",
              "          )\n",
              "          (intermediate): BertIntermediate(\n",
              "            (dense): Linear(in_features=768, out_features=3072, bias=True)\n",
              "          )\n",
              "          (output): BertOutput(\n",
              "            (dense): Linear(in_features=3072, out_features=768, bias=True)\n",
              "            (LayerNorm): LayerNorm((768,), eps=1e-12, elementwise_affine=True)\n",
              "            (dropout): Dropout(p=0.1, inplace=False)\n",
              "          )\n",
              "        )\n",
              "        (5): BertLayer(\n",
              "          (attention): BertAttention(\n",
              "            (self): BertSelfAttention(\n",
              "              (query): Linear(in_features=768, out_features=768, bias=True)\n",
              "              (key): Linear(in_features=768, out_features=768, bias=True)\n",
              "              (value): Linear(in_features=768, out_features=768, bias=True)\n",
              "              (dropout): Dropout(p=0.1, inplace=False)\n",
              "            )\n",
              "            (output): BertSelfOutput(\n",
              "              (dense): Linear(in_features=768, out_features=768, bias=True)\n",
              "              (LayerNorm): LayerNorm((768,), eps=1e-12, elementwise_affine=True)\n",
              "              (dropout): Dropout(p=0.1, inplace=False)\n",
              "            )\n",
              "          )\n",
              "          (intermediate): BertIntermediate(\n",
              "            (dense): Linear(in_features=768, out_features=3072, bias=True)\n",
              "          )\n",
              "          (output): BertOutput(\n",
              "            (dense): Linear(in_features=3072, out_features=768, bias=True)\n",
              "            (LayerNorm): LayerNorm((768,), eps=1e-12, elementwise_affine=True)\n",
              "            (dropout): Dropout(p=0.1, inplace=False)\n",
              "          )\n",
              "        )\n",
              "        (6): BertLayer(\n",
              "          (attention): BertAttention(\n",
              "            (self): BertSelfAttention(\n",
              "              (query): Linear(in_features=768, out_features=768, bias=True)\n",
              "              (key): Linear(in_features=768, out_features=768, bias=True)\n",
              "              (value): Linear(in_features=768, out_features=768, bias=True)\n",
              "              (dropout): Dropout(p=0.1, inplace=False)\n",
              "            )\n",
              "            (output): BertSelfOutput(\n",
              "              (dense): Linear(in_features=768, out_features=768, bias=True)\n",
              "              (LayerNorm): LayerNorm((768,), eps=1e-12, elementwise_affine=True)\n",
              "              (dropout): Dropout(p=0.1, inplace=False)\n",
              "            )\n",
              "          )\n",
              "          (intermediate): BertIntermediate(\n",
              "            (dense): Linear(in_features=768, out_features=3072, bias=True)\n",
              "          )\n",
              "          (output): BertOutput(\n",
              "            (dense): Linear(in_features=3072, out_features=768, bias=True)\n",
              "            (LayerNorm): LayerNorm((768,), eps=1e-12, elementwise_affine=True)\n",
              "            (dropout): Dropout(p=0.1, inplace=False)\n",
              "          )\n",
              "        )\n",
              "        (7): BertLayer(\n",
              "          (attention): BertAttention(\n",
              "            (self): BertSelfAttention(\n",
              "              (query): Linear(in_features=768, out_features=768, bias=True)\n",
              "              (key): Linear(in_features=768, out_features=768, bias=True)\n",
              "              (value): Linear(in_features=768, out_features=768, bias=True)\n",
              "              (dropout): Dropout(p=0.1, inplace=False)\n",
              "            )\n",
              "            (output): BertSelfOutput(\n",
              "              (dense): Linear(in_features=768, out_features=768, bias=True)\n",
              "              (LayerNorm): LayerNorm((768,), eps=1e-12, elementwise_affine=True)\n",
              "              (dropout): Dropout(p=0.1, inplace=False)\n",
              "            )\n",
              "          )\n",
              "          (intermediate): BertIntermediate(\n",
              "            (dense): Linear(in_features=768, out_features=3072, bias=True)\n",
              "          )\n",
              "          (output): BertOutput(\n",
              "            (dense): Linear(in_features=3072, out_features=768, bias=True)\n",
              "            (LayerNorm): LayerNorm((768,), eps=1e-12, elementwise_affine=True)\n",
              "            (dropout): Dropout(p=0.1, inplace=False)\n",
              "          )\n",
              "        )\n",
              "        (8): BertLayer(\n",
              "          (attention): BertAttention(\n",
              "            (self): BertSelfAttention(\n",
              "              (query): Linear(in_features=768, out_features=768, bias=True)\n",
              "              (key): Linear(in_features=768, out_features=768, bias=True)\n",
              "              (value): Linear(in_features=768, out_features=768, bias=True)\n",
              "              (dropout): Dropout(p=0.1, inplace=False)\n",
              "            )\n",
              "            (output): BertSelfOutput(\n",
              "              (dense): Linear(in_features=768, out_features=768, bias=True)\n",
              "              (LayerNorm): LayerNorm((768,), eps=1e-12, elementwise_affine=True)\n",
              "              (dropout): Dropout(p=0.1, inplace=False)\n",
              "            )\n",
              "          )\n",
              "          (intermediate): BertIntermediate(\n",
              "            (dense): Linear(in_features=768, out_features=3072, bias=True)\n",
              "          )\n",
              "          (output): BertOutput(\n",
              "            (dense): Linear(in_features=3072, out_features=768, bias=True)\n",
              "            (LayerNorm): LayerNorm((768,), eps=1e-12, elementwise_affine=True)\n",
              "            (dropout): Dropout(p=0.1, inplace=False)\n",
              "          )\n",
              "        )\n",
              "        (9): BertLayer(\n",
              "          (attention): BertAttention(\n",
              "            (self): BertSelfAttention(\n",
              "              (query): Linear(in_features=768, out_features=768, bias=True)\n",
              "              (key): Linear(in_features=768, out_features=768, bias=True)\n",
              "              (value): Linear(in_features=768, out_features=768, bias=True)\n",
              "              (dropout): Dropout(p=0.1, inplace=False)\n",
              "            )\n",
              "            (output): BertSelfOutput(\n",
              "              (dense): Linear(in_features=768, out_features=768, bias=True)\n",
              "              (LayerNorm): LayerNorm((768,), eps=1e-12, elementwise_affine=True)\n",
              "              (dropout): Dropout(p=0.1, inplace=False)\n",
              "            )\n",
              "          )\n",
              "          (intermediate): BertIntermediate(\n",
              "            (dense): Linear(in_features=768, out_features=3072, bias=True)\n",
              "          )\n",
              "          (output): BertOutput(\n",
              "            (dense): Linear(in_features=3072, out_features=768, bias=True)\n",
              "            (LayerNorm): LayerNorm((768,), eps=1e-12, elementwise_affine=True)\n",
              "            (dropout): Dropout(p=0.1, inplace=False)\n",
              "          )\n",
              "        )\n",
              "        (10): BertLayer(\n",
              "          (attention): BertAttention(\n",
              "            (self): BertSelfAttention(\n",
              "              (query): Linear(in_features=768, out_features=768, bias=True)\n",
              "              (key): Linear(in_features=768, out_features=768, bias=True)\n",
              "              (value): Linear(in_features=768, out_features=768, bias=True)\n",
              "              (dropout): Dropout(p=0.1, inplace=False)\n",
              "            )\n",
              "            (output): BertSelfOutput(\n",
              "              (dense): Linear(in_features=768, out_features=768, bias=True)\n",
              "              (LayerNorm): LayerNorm((768,), eps=1e-12, elementwise_affine=True)\n",
              "              (dropout): Dropout(p=0.1, inplace=False)\n",
              "            )\n",
              "          )\n",
              "          (intermediate): BertIntermediate(\n",
              "            (dense): Linear(in_features=768, out_features=3072, bias=True)\n",
              "          )\n",
              "          (output): BertOutput(\n",
              "            (dense): Linear(in_features=3072, out_features=768, bias=True)\n",
              "            (LayerNorm): LayerNorm((768,), eps=1e-12, elementwise_affine=True)\n",
              "            (dropout): Dropout(p=0.1, inplace=False)\n",
              "          )\n",
              "        )\n",
              "        (11): BertLayer(\n",
              "          (attention): BertAttention(\n",
              "            (self): BertSelfAttention(\n",
              "              (query): Linear(in_features=768, out_features=768, bias=True)\n",
              "              (key): Linear(in_features=768, out_features=768, bias=True)\n",
              "              (value): Linear(in_features=768, out_features=768, bias=True)\n",
              "              (dropout): Dropout(p=0.1, inplace=False)\n",
              "            )\n",
              "            (output): BertSelfOutput(\n",
              "              (dense): Linear(in_features=768, out_features=768, bias=True)\n",
              "              (LayerNorm): LayerNorm((768,), eps=1e-12, elementwise_affine=True)\n",
              "              (dropout): Dropout(p=0.1, inplace=False)\n",
              "            )\n",
              "          )\n",
              "          (intermediate): BertIntermediate(\n",
              "            (dense): Linear(in_features=768, out_features=3072, bias=True)\n",
              "          )\n",
              "          (output): BertOutput(\n",
              "            (dense): Linear(in_features=3072, out_features=768, bias=True)\n",
              "            (LayerNorm): LayerNorm((768,), eps=1e-12, elementwise_affine=True)\n",
              "            (dropout): Dropout(p=0.1, inplace=False)\n",
              "          )\n",
              "        )\n",
              "      )\n",
              "    )\n",
              "    (pooler): BertPooler(\n",
              "      (dense): Linear(in_features=768, out_features=768, bias=True)\n",
              "      (activation): Tanh()\n",
              "    )\n",
              "  )\n",
              "  (dropout): Dropout(p=0.1, inplace=False)\n",
              "  (classifier): Linear(in_features=768, out_features=3, bias=True)\n",
              ")"
            ]
          },
          "metadata": {
            "tags": []
          },
          "execution_count": 13
        }
      ]
    },
    {
      "cell_type": "code",
      "metadata": {
        "id": "sqT1Weu77qxI",
        "colab": {
          "base_uri": "https://localhost:8080/"
        },
        "outputId": "c68107a3-df75-4c8a-97d4-cb032f535357"
      },
      "source": [
        "from transformers import pipeline\n",
        "\n",
        "device = torch.device(\"cuda\") if torch.cuda.is_available() else torch.device(\"cpu\")\n",
        "classification = pipeline(\"text-classification\", model = model, tokenizer = JP_tokenizer, device = 0)\n",
        "\n",
        "classification(\"少林サッカー映画、TV放送決定！\")"
      ],
      "execution_count": 14,
      "outputs": [
        {
          "output_type": "execute_result",
          "data": {
            "text/plain": [
              "[{'label': 'LABEL_2', 'score': 0.994263231754303}]"
            ]
          },
          "metadata": {
            "tags": []
          },
          "execution_count": 14
        }
      ]
    },
    {
      "cell_type": "markdown",
      "metadata": {
        "id": "68lP6RhtE2Oi"
      },
      "source": [
        "\"ON THE STABILITY OF FINE-TUNING BERT: MISCONCEPTIONS,\n",
        "EXPLANATIONS, AND STRONG BASELINES\"の5.1では、Bert特有の勾配消失問題がある。下の図は、Bertの各レイヤーの損失関数の$l_2$勾配ノルムをプロットしたものである。下層レイヤーでの勾配がiteration 70を超えたあたりから、急激に発生している。"
      ]
    },
    {
      "cell_type": "markdown",
      "metadata": {
        "id": "5t0P7oMh_mIg"
      },
      "source": [
        "![image.png](data:image/png;base64,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)"
      ]
    },
    {
      "cell_type": "markdown",
      "metadata": {
        "id": "Q1knkmB2awAN"
      },
      "source": [
        "# 層(Layer)のカスタマイズ\n",
        "\n",
        "参考資料：\n",
        "\n",
        "1: https://skimai.com/fine-tuning-bert-for-sentiment-analysis/\n",
        "\n",
        "2: https://github.com/huggingface/transformers/issues/5816\n",
        "\n",
        "3: https://stackoverflow.com/questions/64156202/add-dense-layer-on-top-of-huggingface-bert-model"
      ]
    },
    {
      "cell_type": "code",
      "metadata": {
        "id": "f3Ucte2SBOEz"
      },
      "source": [
        "from transformers import BertModel, AdamW\n",
        "import torch.nn as nn\n",
        "import torch.nn.functional as F\n",
        "from torch.utils.data import DataLoader\n",
        "from tqdm import tqdm\n",
        "\n",
        "device = torch.device('cuda') if torch.cuda.is_available() else torch.device('cpu')\n",
        "train_loader = DataLoader(train_dataset, batch_size=16, shuffle=True)\n",
        "\n",
        "\n",
        "# Create the BertClassfier class\n",
        "class BertClassifier(nn.Module):\n",
        "    \"\"\"Bert Model for Classification Tasks.\n",
        "    \"\"\"\n",
        "    def __init__(self, freeze_bert=False):\n",
        "        \"\"\"\n",
        "        @param    bert: a BertModel object\n",
        "        @param    classifier: a torch.nn.Module classifier\n",
        "        @param    freeze_bert (bool): Set `False` to fine-tune the BERT model\n",
        "        \"\"\"\n",
        "        super(BertClassifier, self).__init__()\n",
        "        # Specify hidden size of BERT, hidden size of our classifier, and number of labels\n",
        "        D_in, H, D_out = 768, 50, 3\n",
        "\n",
        "        # Instantiate BERT model\n",
        "        self.bert = BertModel.from_pretrained('cl-tohoku/bert-base-japanese-whole-word-masking')\n",
        "\n",
        "        # Instantiate an one-layer feed-forward classifier\n",
        "        self.classifier = nn.Sequential(\n",
        "            nn.Linear(D_in, H),\n",
        "            nn.ReLU(),\n",
        "            #nn.Dropout(0.5),\n",
        "            nn.Linear(H, D_out)\n",
        "        )\n",
        "\n",
        "        # Freeze the BERT model\n",
        "        if freeze_bert:\n",
        "            for param in self.bert.parameters():\n",
        "                param.requires_grad = False\n",
        "        \n",
        "    def forward(self, input_ids, attention_mask):\n",
        "        # Feed input to BERT\n",
        "        outputs = self.bert(input_ids=input_ids, attention_mask=attention_mask)\n",
        "        \n",
        "        # Extract the last hidden state of the token `[CLS]` for classification task\n",
        "        last_hidden_state_cls = outputs[1]   #pooling layerではなく、各トークンの位置での出力が知りたいときには、こっちを採用：outputs[0][:, 'token_position', :]\n",
        "\n",
        "        # Feed input to classifier to compute logits\n",
        "        logits = self.classifier(last_hidden_state_cls)\n",
        "\n",
        "        return logits"
      ],
      "execution_count": 15,
      "outputs": []
    },
    {
      "cell_type": "code",
      "metadata": {
        "colab": {
          "base_uri": "https://localhost:8080/"
        },
        "id": "cC_5dnrobNE2",
        "outputId": "81da74ed-d1ed-42a1-c9cf-061823650d99"
      },
      "source": [
        "model = BertClassifier()\n",
        "model.to(device)\n",
        "model.train()\n",
        "\n",
        "criterion = nn.CrossEntropyLoss() ## If required define your own criterion\n",
        "optimizer = AdamW(model.parameters(),\n",
        "                      lr=5e-5,    # Default learning rate\n",
        "                      eps=1e-8    # Default epsilon value\n",
        "                      )\n",
        "\n",
        "\n",
        "for epoch in range(3):\n",
        "    for batch in tqdm(train_loader): ## If you have a DataLoader()  object to get the data.\n",
        "        optimizer.zero_grad()\n",
        "\n",
        "        input_ids = batch['input_ids'].to(device)\n",
        "        attention_mask = batch['attention_mask'].to(device)\n",
        "        labels = batch['labels'].to(device)\n",
        "           \n",
        "        outputs = model(input_ids, attention_mask=attention_mask)\n",
        "        loss = criterion(outputs, labels)\n",
        "        loss.backward()\n",
        "        optimizer.step()"
      ],
      "execution_count": 16,
      "outputs": [
        {
          "output_type": "stream",
          "text": [
            "loading configuration file https://huggingface.co/cl-tohoku/bert-base-japanese-whole-word-masking/resolve/main/config.json from cache at /root/.cache/huggingface/transformers/573af37b6c39d672f2df687c06ad7d556476cbe43e5bf7771097187c45a3e7bf.abeb707b5d79387dd462e8bfb724637d856e98434b6931c769b8716c6f287258\n",
            "Model config BertConfig {\n",
            "  \"architectures\": [\n",
            "    \"BertForMaskedLM\"\n",
            "  ],\n",
            "  \"attention_probs_dropout_prob\": 0.1,\n",
            "  \"gradient_checkpointing\": false,\n",
            "  \"hidden_act\": \"gelu\",\n",
            "  \"hidden_dropout_prob\": 0.1,\n",
            "  \"hidden_size\": 768,\n",
            "  \"initializer_range\": 0.02,\n",
            "  \"intermediate_size\": 3072,\n",
            "  \"layer_norm_eps\": 1e-12,\n",
            "  \"max_position_embeddings\": 512,\n",
            "  \"model_type\": \"bert\",\n",
            "  \"num_attention_heads\": 12,\n",
            "  \"num_hidden_layers\": 12,\n",
            "  \"pad_token_id\": 0,\n",
            "  \"position_embedding_type\": \"absolute\",\n",
            "  \"tokenizer_class\": \"BertJapaneseTokenizer\",\n",
            "  \"transformers_version\": \"4.9.1\",\n",
            "  \"type_vocab_size\": 2,\n",
            "  \"use_cache\": true,\n",
            "  \"vocab_size\": 32000\n",
            "}\n",
            "\n",
            "loading weights file https://huggingface.co/cl-tohoku/bert-base-japanese-whole-word-masking/resolve/main/pytorch_model.bin from cache at /root/.cache/huggingface/transformers/cabd9bbd81093f4c494a02e34eb57e405b7564db216404108c8e8caf10ede4fa.464b54997e35e3cc3223ba6d7f0abdaeb7be5b7648f275f57d839ee0f95611fb\n",
            "Some weights of the model checkpoint at cl-tohoku/bert-base-japanese-whole-word-masking were not used when initializing BertModel: ['cls.seq_relationship.weight', 'cls.predictions.bias', 'cls.predictions.transform.dense.bias', 'cls.seq_relationship.bias', 'cls.predictions.decoder.weight', 'cls.predictions.transform.LayerNorm.bias', 'cls.predictions.transform.dense.weight', 'cls.predictions.transform.LayerNorm.weight']\n",
            "- This IS expected if you are initializing BertModel from the checkpoint of a model trained on another task or with another architecture (e.g. initializing a BertForSequenceClassification model from a BertForPreTraining model).\n",
            "- This IS NOT expected if you are initializing BertModel from the checkpoint of a model that you expect to be exactly identical (initializing a BertForSequenceClassification model from a BertForSequenceClassification model).\n",
            "All the weights of BertModel were initialized from the model checkpoint at cl-tohoku/bert-base-japanese-whole-word-masking.\n",
            "If your task is similar to the task the model of the checkpoint was trained on, you can already use BertModel for predictions without further training.\n",
            "100%|██████████| 133/133 [00:18<00:00,  7.16it/s]\n",
            "100%|██████████| 133/133 [00:18<00:00,  7.21it/s]\n",
            "100%|██████████| 133/133 [00:18<00:00,  7.23it/s]\n"
          ],
          "name": "stderr"
        }
      ]
    },
    {
      "cell_type": "code",
      "metadata": {
        "id": "aveTlo1_baih"
      },
      "source": [
        ""
      ],
      "execution_count": 16,
      "outputs": []
    },
    {
      "cell_type": "markdown",
      "metadata": {
        "id": "j7te6WZlgY7D"
      },
      "source": [
        "# メモ\n",
        "\n",
        "Bertの出力の内容を確認"
      ]
    },
    {
      "cell_type": "code",
      "metadata": {
        "colab": {
          "base_uri": "https://localhost:8080/"
        },
        "id": "1lzBEMp_bnL1",
        "outputId": "cac08072-3d97-40d0-e5b8-f5f7333001e5"
      },
      "source": [
        "from transformers import BertTokenizer, BertModel\n",
        "import torch\n",
        "\n",
        "tokenizer = BertTokenizer.from_pretrained('bert-base-uncased')\n",
        "model = BertModel.from_pretrained('bert-base-uncased')\n",
        "\n",
        "inputs = tokenizer(\"Hello, my dog is cute\", return_tensors=\"pt\")\n",
        "outputs = model(**inputs)\n",
        "\n",
        "last_hidden_states = outputs.last_hidden_state"
      ],
      "execution_count": 17,
      "outputs": [
        {
          "output_type": "stream",
          "text": [
            "loading file https://huggingface.co/bert-base-uncased/resolve/main/vocab.txt from cache at /root/.cache/huggingface/transformers/45c3f7a79a80e1cf0a489e5c62b43f173c15db47864303a55d623bb3c96f72a5.d789d64ebfe299b0e416afc4a169632f903f693095b4629a7ea271d5a0cf2c99\n",
            "loading file https://huggingface.co/bert-base-uncased/resolve/main/added_tokens.json from cache at None\n",
            "loading file https://huggingface.co/bert-base-uncased/resolve/main/special_tokens_map.json from cache at None\n",
            "loading file https://huggingface.co/bert-base-uncased/resolve/main/tokenizer_config.json from cache at /root/.cache/huggingface/transformers/c1d7f0a763fb63861cc08553866f1fc3e5a6f4f07621be277452d26d71303b7e.20430bd8e10ef77a7d2977accefe796051e01bc2fc4aa146bc862997a1a15e79\n",
            "loading file https://huggingface.co/bert-base-uncased/resolve/main/tokenizer.json from cache at /root/.cache/huggingface/transformers/534479488c54aeaf9c3406f647aa2ec13648c06771ffe269edabebd4c412da1d.7f2721073f19841be16f41b0a70b600ca6b880c8f3df6f3535cbc704371bdfa4\n",
            "loading configuration file https://huggingface.co/bert-base-uncased/resolve/main/config.json from cache at /root/.cache/huggingface/transformers/3c61d016573b14f7f008c02c4e51a366c67ab274726fe2910691e2a761acf43e.37395cee442ab11005bcd270f3c34464dc1704b715b5d7d52b1a461abe3b9e4e\n",
            "Model config BertConfig {\n",
            "  \"architectures\": [\n",
            "    \"BertForMaskedLM\"\n",
            "  ],\n",
            "  \"attention_probs_dropout_prob\": 0.1,\n",
            "  \"gradient_checkpointing\": false,\n",
            "  \"hidden_act\": \"gelu\",\n",
            "  \"hidden_dropout_prob\": 0.1,\n",
            "  \"hidden_size\": 768,\n",
            "  \"initializer_range\": 0.02,\n",
            "  \"intermediate_size\": 3072,\n",
            "  \"layer_norm_eps\": 1e-12,\n",
            "  \"max_position_embeddings\": 512,\n",
            "  \"model_type\": \"bert\",\n",
            "  \"num_attention_heads\": 12,\n",
            "  \"num_hidden_layers\": 12,\n",
            "  \"pad_token_id\": 0,\n",
            "  \"position_embedding_type\": \"absolute\",\n",
            "  \"transformers_version\": \"4.9.1\",\n",
            "  \"type_vocab_size\": 2,\n",
            "  \"use_cache\": true,\n",
            "  \"vocab_size\": 30522\n",
            "}\n",
            "\n",
            "loading configuration file https://huggingface.co/bert-base-uncased/resolve/main/config.json from cache at /root/.cache/huggingface/transformers/3c61d016573b14f7f008c02c4e51a366c67ab274726fe2910691e2a761acf43e.37395cee442ab11005bcd270f3c34464dc1704b715b5d7d52b1a461abe3b9e4e\n",
            "Model config BertConfig {\n",
            "  \"architectures\": [\n",
            "    \"BertForMaskedLM\"\n",
            "  ],\n",
            "  \"attention_probs_dropout_prob\": 0.1,\n",
            "  \"gradient_checkpointing\": false,\n",
            "  \"hidden_act\": \"gelu\",\n",
            "  \"hidden_dropout_prob\": 0.1,\n",
            "  \"hidden_size\": 768,\n",
            "  \"initializer_range\": 0.02,\n",
            "  \"intermediate_size\": 3072,\n",
            "  \"layer_norm_eps\": 1e-12,\n",
            "  \"max_position_embeddings\": 512,\n",
            "  \"model_type\": \"bert\",\n",
            "  \"num_attention_heads\": 12,\n",
            "  \"num_hidden_layers\": 12,\n",
            "  \"pad_token_id\": 0,\n",
            "  \"position_embedding_type\": \"absolute\",\n",
            "  \"transformers_version\": \"4.9.1\",\n",
            "  \"type_vocab_size\": 2,\n",
            "  \"use_cache\": true,\n",
            "  \"vocab_size\": 30522\n",
            "}\n",
            "\n",
            "loading weights file https://huggingface.co/bert-base-uncased/resolve/main/pytorch_model.bin from cache at /root/.cache/huggingface/transformers/a8041bf617d7f94ea26d15e218abd04afc2004805632abc0ed2066aa16d50d04.faf6ea826ae9c5867d12b22257f9877e6b8367890837bd60f7c54a29633f7f2f\n",
            "Some weights of the model checkpoint at bert-base-uncased were not used when initializing BertModel: ['cls.seq_relationship.weight', 'cls.predictions.bias', 'cls.predictions.transform.dense.bias', 'cls.seq_relationship.bias', 'cls.predictions.decoder.weight', 'cls.predictions.transform.LayerNorm.bias', 'cls.predictions.transform.dense.weight', 'cls.predictions.transform.LayerNorm.weight']\n",
            "- This IS expected if you are initializing BertModel from the checkpoint of a model trained on another task or with another architecture (e.g. initializing a BertForSequenceClassification model from a BertForPreTraining model).\n",
            "- This IS NOT expected if you are initializing BertModel from the checkpoint of a model that you expect to be exactly identical (initializing a BertForSequenceClassification model from a BertForSequenceClassification model).\n",
            "All the weights of BertModel were initialized from the model checkpoint at bert-base-uncased.\n",
            "If your task is similar to the task the model of the checkpoint was trained on, you can already use BertModel for predictions without further training.\n"
          ],
          "name": "stderr"
        }
      ]
    },
    {
      "cell_type": "code",
      "metadata": {
        "colab": {
          "base_uri": "https://localhost:8080/"
        },
        "id": "oapqu-zYgnJv",
        "outputId": "921e0960-72c9-4499-871b-ab0ab295af3b"
      },
      "source": [
        "outputs.keys()"
      ],
      "execution_count": 18,
      "outputs": [
        {
          "output_type": "execute_result",
          "data": {
            "text/plain": [
              "odict_keys(['last_hidden_state', 'pooler_output'])"
            ]
          },
          "metadata": {
            "tags": []
          },
          "execution_count": 18
        }
      ]
    },
    {
      "cell_type": "code",
      "metadata": {
        "colab": {
          "base_uri": "https://localhost:8080/"
        },
        "id": "2L8Fcj4Tf5V_",
        "outputId": "d75d58e6-ca46-49ea-f175-4934ed740c45"
      },
      "source": [
        "outputs[0].shape #6文字なので、8つのトークンに対応したものが出てくる"
      ],
      "execution_count": 19,
      "outputs": [
        {
          "output_type": "execute_result",
          "data": {
            "text/plain": [
              "torch.Size([1, 8, 768])"
            ]
          },
          "metadata": {
            "tags": []
          },
          "execution_count": 19
        }
      ]
    },
    {
      "cell_type": "code",
      "metadata": {
        "colab": {
          "base_uri": "https://localhost:8080/"
        },
        "id": "OSA5LJtsgEzO",
        "outputId": "179a4b8f-e6d9-47be-926f-87edd0f4863c"
      },
      "source": [
        "outputs[1].shape"
      ],
      "execution_count": 20,
      "outputs": [
        {
          "output_type": "execute_result",
          "data": {
            "text/plain": [
              "torch.Size([1, 768])"
            ]
          },
          "metadata": {
            "tags": []
          },
          "execution_count": 20
        }
      ]
    },
    {
      "cell_type": "code",
      "metadata": {
        "id": "MyD0RC9Og0bK"
      },
      "source": [
        ""
      ],
      "execution_count": 20,
      "outputs": []
    }
  ]
}